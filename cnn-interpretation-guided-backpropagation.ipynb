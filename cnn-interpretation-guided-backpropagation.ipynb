{
 "cells": [
  {
   "cell_type": "markdown",
   "id": "0a2a0eae",
   "metadata": {
    "papermill": {
     "duration": 0.010319,
     "end_time": "2023-09-04T11:05:19.239876",
     "exception": false,
     "start_time": "2023-09-04T11:05:19.229557",
     "status": "completed"
    },
    "tags": []
   },
   "source": [
    "# Guided Backpropagation"
   ]
  },
  {
   "cell_type": "markdown",
   "id": "759f56e5",
   "metadata": {
    "papermill": {
     "duration": 0.008622,
     "end_time": "2023-09-04T11:05:19.257685",
     "exception": false,
     "start_time": "2023-09-04T11:05:19.249063",
     "status": "completed"
    },
    "tags": []
   },
   "source": [
    "## Theoretical Explanation"
   ]
  },
  {
   "cell_type": "markdown",
   "id": "daf4f365",
   "metadata": {
    "papermill": {
     "duration": 0.008537,
     "end_time": "2023-09-04T11:05:19.274964",
     "exception": false,
     "start_time": "2023-09-04T11:05:19.266427",
     "status": "completed"
    },
    "tags": []
   },
   "source": [
    "References:\n",
    "* https://erdem.pl/2022/02/xai-methods-guided-backpropagation\n",
    "* https://medium.com/@chinesh4/generalized-way-of-interpreting-cnns-a7d1b0178709\n",
    "* https://leslietj.github.io/2020/07/22/Deep-Learning-Guided-BackPropagation/"
   ]
  },
  {
   "cell_type": "markdown",
   "id": "a2fe298d",
   "metadata": {
    "papermill": {
     "duration": 0.008595,
     "end_time": "2023-09-04T11:05:19.292250",
     "exception": false,
     "start_time": "2023-09-04T11:05:19.283655",
     "status": "completed"
    },
    "tags": []
   },
   "source": [
    "Guided Backpropagation (GBP) is an approach designed by Springenberg et al., relying on the ideas of Deconvolution and Saliency. Authors argue that the approach taken by Simonyan et al. with the saliency maps has an issue with the flow of negative gradients, which decreases the accuracy of the higher layers we are trying to visualize. Their idea is to combine two approaches and add a “guide” to the Saliency with the help of deconvolution.\n",
    "\n",
    "Guided Backpropagation combines vanilla backpropagation at ReLUs (leveraging which elements are positive in the preceding feature map) with DeconvNets (keeping only positive error signals). We are only interested in what image features the neuron detects. So when propagating the gradient, we set all the negative gradients to 0. We don’t care if a pixel “suppresses’’ (negative value) a neuron somewhere along the part to our neuron. Value in the filter map greater than zero signifies the pixel importance which is overlapped with the input image to show which pixel from the input image contributed the most.\n",
    "\n",
    "**Given below is the example of how guided backpropagation works:**\n",
    "\n",
    "* Relu Forward pass\n",
    "\n",
    "<img src=\"https://miro.medium.com/max/720/0*yBqno-BGNARrgQ8-\" width=\"600\">\n",
    "\n",
    "* Relu Backward Pass ( flow the value as it is where value is greater than zero in the filter (h_l) during forward propagation.)\n",
    "\n",
    "<img src=\"https://miro.medium.com/max/720/0*UHMN2lGscccqr6tL\" width=\"600\">\n",
    "\n",
    "* Deconvolution for Relu: Flow the values backward as it is where value in the filter is greater than 0.\n",
    "\n",
    "<img src=\"https://miro.medium.com/max/720/0*STbOsROvbJGCHy2_\" width=\"600\">\n",
    "\n",
    "* Guided Backpropagation: Taking the intersection of the concept of Backward pass and the deconvolution.\n",
    "\n",
    "<img src=\"https://miro.medium.com/max/720/0*K8kRB_m2meWQV4C1\" width=\"600\">\n",
    "\n",
    "**Final Result:**\n",
    "\n",
    "<img src=\"https://miro.medium.com/max/640/0*P7Ky-cE6uMv_yuGW\" width=\"400\">"
   ]
  },
  {
   "cell_type": "markdown",
   "id": "be115071",
   "metadata": {
    "papermill": {
     "duration": 0.008569,
     "end_time": "2023-09-04T11:05:19.309460",
     "exception": false,
     "start_time": "2023-09-04T11:05:19.300891",
     "status": "completed"
    },
    "tags": []
   },
   "source": [
    "## Tensorflow General configs and imports"
   ]
  },
  {
   "cell_type": "code",
   "execution_count": 1,
   "id": "588b3237",
   "metadata": {
    "execution": {
     "iopub.execute_input": "2023-09-04T11:05:19.330981Z",
     "iopub.status.busy": "2023-09-04T11:05:19.329796Z",
     "iopub.status.idle": "2023-09-04T11:05:24.762918Z",
     "shell.execute_reply": "2023-09-04T11:05:24.761848Z"
    },
    "papermill": {
     "duration": 5.447786,
     "end_time": "2023-09-04T11:05:24.765857",
     "exception": false,
     "start_time": "2023-09-04T11:05:19.318071",
     "status": "completed"
    },
    "tags": []
   },
   "outputs": [],
   "source": [
    "# Python ≥3.5 is required\n",
    "import sys\n",
    "assert sys.version_info >= (3, 5)\n",
    "\n",
    "# Scikit-Learn ≥0.20 is required\n",
    "import sklearn\n",
    "assert sklearn.__version__ >= \"0.20\"\n",
    "\n",
    "try:\n",
    "    # %tensorflow_version only exists in Colab.\n",
    "    %tensorflow_version 2.x\n",
    "except Exception:\n",
    "    pass\n",
    "\n",
    "# TensorFlow ≥2.0 is required\n",
    "import tensorflow as tf\n",
    "assert tf.__version__ >= \"2.0\"\n",
    "\n",
    "# Common imports\n",
    "import pandas as pd \n",
    "import numpy as np\n",
    "import seaborn as sns\n",
    "import os\n",
    "\n",
    "# to make this notebook's output stable across runs\n",
    "np.random.seed(42)\n",
    "\n",
    "# To plot pretty figures\n",
    "%matplotlib inline\n",
    "import matplotlib as mpl\n",
    "import matplotlib.pyplot as plt\n",
    "mpl.rc('axes', labelsize=14)\n",
    "mpl.rc('xtick', labelsize=12)\n",
    "mpl.rc('ytick', labelsize=12)\n",
    "\n",
    "\n",
    "# Ignore useless warnings (see SciPy issue #5998)\n",
    "import warnings\n",
    "warnings.filterwarnings(action=\"ignore\", message=\"^internal gelsd\")"
   ]
  },
  {
   "cell_type": "markdown",
   "id": "a3c2252d",
   "metadata": {
    "papermill": {
     "duration": 0.009123,
     "end_time": "2023-09-04T11:05:24.784355",
     "exception": false,
     "start_time": "2023-09-04T11:05:24.775232",
     "status": "completed"
    },
    "tags": []
   },
   "source": [
    "## Imports"
   ]
  },
  {
   "cell_type": "code",
   "execution_count": 2,
   "id": "ef441103",
   "metadata": {
    "execution": {
     "iopub.execute_input": "2023-09-04T11:05:24.803374Z",
     "iopub.status.busy": "2023-09-04T11:05:24.802795Z",
     "iopub.status.idle": "2023-09-04T11:05:25.821230Z",
     "shell.execute_reply": "2023-09-04T11:05:25.820104Z"
    },
    "papermill": {
     "duration": 1.030862,
     "end_time": "2023-09-04T11:05:25.823915",
     "exception": false,
     "start_time": "2023-09-04T11:05:24.793053",
     "status": "completed"
    },
    "tags": []
   },
   "outputs": [],
   "source": [
    "import numpy as np\n",
    "import tensorflow as tf\n",
    "import pathlib\n",
    "from tensorflow import keras\n",
    "from IPython.display import Image, display\n",
    "import matplotlib.pyplot as plt\n",
    "import matplotlib.cm as cm\n",
    "import pandas as pd\n",
    "import os\n",
    "from tensorflow.keras.models import Sequential\n",
    "from tensorflow.keras.layers import Dense, Flatten, GlobalAveragePooling2D, Activation, Flatten, Dropout, BatchNormalization\n",
    "from tensorflow.keras import optimizers, regularizers\n",
    "from tensorflow.keras.applications.xception import Xception\n",
    "from keras.applications.xception import preprocess_input\n",
    "from tensorflow.keras.models import Model\n",
    "from tensorflow.keras.optimizers import SGD\n",
    "from tensorflow.keras.preprocessing.image import ImageDataGenerator\n",
    "from tensorflow.keras.applications.inception_v3 import InceptionV3\n",
    "from tensorflow.keras.preprocessing import image"
   ]
  },
  {
   "cell_type": "markdown",
   "id": "32bdaad6",
   "metadata": {
    "papermill": {
     "duration": 0.008557,
     "end_time": "2023-09-04T11:05:25.841648",
     "exception": false,
     "start_time": "2023-09-04T11:05:25.833091",
     "status": "completed"
    },
    "tags": []
   },
   "source": [
    "## Data pre-processing"
   ]
  },
  {
   "cell_type": "code",
   "execution_count": 3,
   "id": "88c20baf",
   "metadata": {
    "execution": {
     "iopub.execute_input": "2023-09-04T11:05:25.860659Z",
     "iopub.status.busy": "2023-09-04T11:05:25.860344Z",
     "iopub.status.idle": "2023-09-04T11:05:56.556884Z",
     "shell.execute_reply": "2023-09-04T11:05:56.555909Z"
    },
    "papermill": {
     "duration": 30.713372,
     "end_time": "2023-09-04T11:05:56.563714",
     "exception": false,
     "start_time": "2023-09-04T11:05:25.850342",
     "status": "completed"
    },
    "tags": []
   },
   "outputs": [
    {
     "name": "stdout",
     "output_type": "stream",
     "text": [
      "Found 42350 files belonging to 6 classes.\n",
      "Using 33880 files for training.\n",
      "Found 42350 files belonging to 6 classes.\n",
      "Using 8470 files for validation.\n"
     ]
    }
   ],
   "source": [
    "# Obtain and prepare dataset\n",
    "\n",
    "data_dir = pathlib.Path('../input/monkeypoxdataset/MonkeypoxSkinDataset')\n",
    "\n",
    "# Input size Final\n",
    "batch_size = 32\n",
    "IMG_SIZE = (124,124)\n",
    "\n",
    "train_ds = tf.keras.preprocessing.image_dataset_from_directory(\n",
    "  data_dir,\n",
    "  validation_split=0.2,\n",
    "  subset=\"training\",\n",
    "  seed=123,\n",
    "  shuffle=True,\n",
    "  image_size=IMG_SIZE,\n",
    "  batch_size=batch_size)\n",
    "\n",
    "val_ds = tf.keras.preprocessing.image_dataset_from_directory(\n",
    "  data_dir,\n",
    "  validation_split=0.2,\n",
    "  subset=\"validation\",\n",
    "  seed=123,\n",
    "  shuffle=True,\n",
    "  image_size=IMG_SIZE,\n",
    "  batch_size=batch_size)\n",
    "\n",
    "class_names = train_ds.class_names"
   ]
  },
  {
   "cell_type": "code",
   "execution_count": 4,
   "id": "a4e98d78",
   "metadata": {
    "execution": {
     "iopub.execute_input": "2023-09-04T11:05:56.583769Z",
     "iopub.status.busy": "2023-09-04T11:05:56.583387Z",
     "iopub.status.idle": "2023-09-04T11:05:56.680197Z",
     "shell.execute_reply": "2023-09-04T11:05:56.679188Z"
    },
    "papermill": {
     "duration": 0.110331,
     "end_time": "2023-09-04T11:05:56.683005",
     "exception": false,
     "start_time": "2023-09-04T11:05:56.572674",
     "status": "completed"
    },
    "tags": []
   },
   "outputs": [],
   "source": [
    "train_ds = train_ds.cache().prefetch(1)\n",
    "val_ds = val_ds.cache().prefetch(1)\n",
    "\n",
    "val_batches = val_ds.cardinality().numpy()\n",
    "test_ds = val_ds.take(val_batches // 3) \n",
    "val_ds = val_ds.skip(val_batches // 3)\n",
    "\n",
    "normalization_layer = keras.layers.experimental.preprocessing.Rescaling(1./255)\n",
    "\n",
    "train_ds = train_ds.map(lambda x, y: (normalization_layer(x), y))\n",
    "val_ds = val_ds.map(lambda x, y: (normalization_layer(x), y))\n",
    "test_ds = test_ds.map(lambda x, y: (normalization_layer(x), y))"
   ]
  },
  {
   "cell_type": "markdown",
   "id": "9d00609d",
   "metadata": {
    "papermill": {
     "duration": 0.008728,
     "end_time": "2023-09-04T11:05:56.701501",
     "exception": false,
     "start_time": "2023-09-04T11:05:56.692773",
     "status": "completed"
    },
    "tags": []
   },
   "source": [
    "## Transfer Learning on Xception model"
   ]
  },
  {
   "cell_type": "code",
   "execution_count": 5,
   "id": "14f7c050",
   "metadata": {
    "execution": {
     "iopub.execute_input": "2023-09-04T11:05:56.721376Z",
     "iopub.status.busy": "2023-09-04T11:05:56.720513Z",
     "iopub.status.idle": "2023-09-04T11:05:58.523546Z",
     "shell.execute_reply": "2023-09-04T11:05:58.522588Z"
    },
    "papermill": {
     "duration": 1.815801,
     "end_time": "2023-09-04T11:05:58.526402",
     "exception": false,
     "start_time": "2023-09-04T11:05:56.710601",
     "status": "completed"
    },
    "tags": []
   },
   "outputs": [
    {
     "name": "stdout",
     "output_type": "stream",
     "text": [
      "Downloading data from https://storage.googleapis.com/tensorflow/keras-applications/xception/xception_weights_tf_dim_ordering_tf_kernels_notop.h5\n",
      "83689472/83683744 [==============================] - 1s 0us/step\n",
      "83697664/83683744 [==============================] - 1s 0us/step\n"
     ]
    }
   ],
   "source": [
    "# create the base pre-trained model\n",
    "base_model = keras.applications.xception.Xception(weights='imagenet', include_top=False)\n",
    "\n",
    "# add a global spatial average pooling layer\n",
    "x = base_model.output\n",
    "x = GlobalAveragePooling2D()(x)\n",
    "# and a logistic layer -- let's say we have 6 classes\n",
    "predictions = Dense(6, activation='softmax')(x)"
   ]
  },
  {
   "cell_type": "code",
   "execution_count": 6,
   "id": "17603ef1",
   "metadata": {
    "execution": {
     "iopub.execute_input": "2023-09-04T11:05:58.550308Z",
     "iopub.status.busy": "2023-09-04T11:05:58.548653Z",
     "iopub.status.idle": "2023-09-04T11:05:58.559067Z",
     "shell.execute_reply": "2023-09-04T11:05:58.558114Z"
    },
    "papermill": {
     "duration": 0.024815,
     "end_time": "2023-09-04T11:05:58.561280",
     "exception": false,
     "start_time": "2023-09-04T11:05:58.536465",
     "status": "completed"
    },
    "tags": []
   },
   "outputs": [],
   "source": [
    "# first: train only the top layers (which were randomly initialized)\n",
    "# i.e. freeze all convolutional InceptionV3 layers\n",
    "for layer in base_model.layers:\n",
    "    layer.trainable = False"
   ]
  },
  {
   "cell_type": "code",
   "execution_count": 7,
   "id": "f7341abe",
   "metadata": {
    "execution": {
     "iopub.execute_input": "2023-09-04T11:05:58.585613Z",
     "iopub.status.busy": "2023-09-04T11:05:58.584703Z",
     "iopub.status.idle": "2023-09-04T11:05:58.601465Z",
     "shell.execute_reply": "2023-09-04T11:05:58.600543Z"
    },
    "papermill": {
     "duration": 0.030193,
     "end_time": "2023-09-04T11:05:58.603830",
     "exception": false,
     "start_time": "2023-09-04T11:05:58.573637",
     "status": "completed"
    },
    "tags": []
   },
   "outputs": [],
   "source": [
    "# this is the model we will train\n",
    "xception_model = Model(inputs=base_model.input, outputs=predictions)"
   ]
  },
  {
   "cell_type": "code",
   "execution_count": 8,
   "id": "424fee48",
   "metadata": {
    "execution": {
     "iopub.execute_input": "2023-09-04T11:05:58.625677Z",
     "iopub.status.busy": "2023-09-04T11:05:58.624095Z",
     "iopub.status.idle": "2023-09-04T11:05:58.647425Z",
     "shell.execute_reply": "2023-09-04T11:05:58.646455Z"
    },
    "papermill": {
     "duration": 0.037401,
     "end_time": "2023-09-04T11:05:58.650955",
     "exception": false,
     "start_time": "2023-09-04T11:05:58.613554",
     "status": "completed"
    },
    "tags": []
   },
   "outputs": [
    {
     "name": "stdout",
     "output_type": "stream",
     "text": [
      "Model: \"model\"\n",
      "__________________________________________________________________________________________________\n",
      "Layer (type)                    Output Shape         Param #     Connected to                     \n",
      "==================================================================================================\n",
      "input_1 (InputLayer)            [(None, None, None,  0                                            \n",
      "__________________________________________________________________________________________________\n",
      "block1_conv1 (Conv2D)           (None, None, None, 3 864         input_1[0][0]                    \n",
      "__________________________________________________________________________________________________\n",
      "block1_conv1_bn (BatchNormaliza (None, None, None, 3 128         block1_conv1[0][0]               \n",
      "__________________________________________________________________________________________________\n",
      "block1_conv1_act (Activation)   (None, None, None, 3 0           block1_conv1_bn[0][0]            \n",
      "__________________________________________________________________________________________________\n",
      "block1_conv2 (Conv2D)           (None, None, None, 6 18432       block1_conv1_act[0][0]           \n",
      "__________________________________________________________________________________________________\n",
      "block1_conv2_bn (BatchNormaliza (None, None, None, 6 256         block1_conv2[0][0]               \n",
      "__________________________________________________________________________________________________\n",
      "block1_conv2_act (Activation)   (None, None, None, 6 0           block1_conv2_bn[0][0]            \n",
      "__________________________________________________________________________________________________\n",
      "block2_sepconv1 (SeparableConv2 (None, None, None, 1 8768        block1_conv2_act[0][0]           \n",
      "__________________________________________________________________________________________________\n",
      "block2_sepconv1_bn (BatchNormal (None, None, None, 1 512         block2_sepconv1[0][0]            \n",
      "__________________________________________________________________________________________________\n",
      "block2_sepconv2_act (Activation (None, None, None, 1 0           block2_sepconv1_bn[0][0]         \n",
      "__________________________________________________________________________________________________\n",
      "block2_sepconv2 (SeparableConv2 (None, None, None, 1 17536       block2_sepconv2_act[0][0]        \n",
      "__________________________________________________________________________________________________\n",
      "block2_sepconv2_bn (BatchNormal (None, None, None, 1 512         block2_sepconv2[0][0]            \n",
      "__________________________________________________________________________________________________\n",
      "conv2d (Conv2D)                 (None, None, None, 1 8192        block1_conv2_act[0][0]           \n",
      "__________________________________________________________________________________________________\n",
      "block2_pool (MaxPooling2D)      (None, None, None, 1 0           block2_sepconv2_bn[0][0]         \n",
      "__________________________________________________________________________________________________\n",
      "batch_normalization (BatchNorma (None, None, None, 1 512         conv2d[0][0]                     \n",
      "__________________________________________________________________________________________________\n",
      "add (Add)                       (None, None, None, 1 0           block2_pool[0][0]                \n",
      "                                                                 batch_normalization[0][0]        \n",
      "__________________________________________________________________________________________________\n",
      "block3_sepconv1_act (Activation (None, None, None, 1 0           add[0][0]                        \n",
      "__________________________________________________________________________________________________\n",
      "block3_sepconv1 (SeparableConv2 (None, None, None, 2 33920       block3_sepconv1_act[0][0]        \n",
      "__________________________________________________________________________________________________\n",
      "block3_sepconv1_bn (BatchNormal (None, None, None, 2 1024        block3_sepconv1[0][0]            \n",
      "__________________________________________________________________________________________________\n",
      "block3_sepconv2_act (Activation (None, None, None, 2 0           block3_sepconv1_bn[0][0]         \n",
      "__________________________________________________________________________________________________\n",
      "block3_sepconv2 (SeparableConv2 (None, None, None, 2 67840       block3_sepconv2_act[0][0]        \n",
      "__________________________________________________________________________________________________\n",
      "block3_sepconv2_bn (BatchNormal (None, None, None, 2 1024        block3_sepconv2[0][0]            \n",
      "__________________________________________________________________________________________________\n",
      "conv2d_1 (Conv2D)               (None, None, None, 2 32768       add[0][0]                        \n",
      "__________________________________________________________________________________________________\n",
      "block3_pool (MaxPooling2D)      (None, None, None, 2 0           block3_sepconv2_bn[0][0]         \n",
      "__________________________________________________________________________________________________\n",
      "batch_normalization_1 (BatchNor (None, None, None, 2 1024        conv2d_1[0][0]                   \n",
      "__________________________________________________________________________________________________\n",
      "add_1 (Add)                     (None, None, None, 2 0           block3_pool[0][0]                \n",
      "                                                                 batch_normalization_1[0][0]      \n",
      "__________________________________________________________________________________________________\n",
      "block4_sepconv1_act (Activation (None, None, None, 2 0           add_1[0][0]                      \n",
      "__________________________________________________________________________________________________\n",
      "block4_sepconv1 (SeparableConv2 (None, None, None, 7 188672      block4_sepconv1_act[0][0]        \n",
      "__________________________________________________________________________________________________\n",
      "block4_sepconv1_bn (BatchNormal (None, None, None, 7 2912        block4_sepconv1[0][0]            \n",
      "__________________________________________________________________________________________________\n",
      "block4_sepconv2_act (Activation (None, None, None, 7 0           block4_sepconv1_bn[0][0]         \n",
      "__________________________________________________________________________________________________\n",
      "block4_sepconv2 (SeparableConv2 (None, None, None, 7 536536      block4_sepconv2_act[0][0]        \n",
      "__________________________________________________________________________________________________\n",
      "block4_sepconv2_bn (BatchNormal (None, None, None, 7 2912        block4_sepconv2[0][0]            \n",
      "__________________________________________________________________________________________________\n",
      "conv2d_2 (Conv2D)               (None, None, None, 7 186368      add_1[0][0]                      \n",
      "__________________________________________________________________________________________________\n",
      "block4_pool (MaxPooling2D)      (None, None, None, 7 0           block4_sepconv2_bn[0][0]         \n",
      "__________________________________________________________________________________________________\n",
      "batch_normalization_2 (BatchNor (None, None, None, 7 2912        conv2d_2[0][0]                   \n",
      "__________________________________________________________________________________________________\n",
      "add_2 (Add)                     (None, None, None, 7 0           block4_pool[0][0]                \n",
      "                                                                 batch_normalization_2[0][0]      \n",
      "__________________________________________________________________________________________________\n",
      "block5_sepconv1_act (Activation (None, None, None, 7 0           add_2[0][0]                      \n",
      "__________________________________________________________________________________________________\n",
      "block5_sepconv1 (SeparableConv2 (None, None, None, 7 536536      block5_sepconv1_act[0][0]        \n",
      "__________________________________________________________________________________________________\n",
      "block5_sepconv1_bn (BatchNormal (None, None, None, 7 2912        block5_sepconv1[0][0]            \n",
      "__________________________________________________________________________________________________\n",
      "block5_sepconv2_act (Activation (None, None, None, 7 0           block5_sepconv1_bn[0][0]         \n",
      "__________________________________________________________________________________________________\n",
      "block5_sepconv2 (SeparableConv2 (None, None, None, 7 536536      block5_sepconv2_act[0][0]        \n",
      "__________________________________________________________________________________________________\n",
      "block5_sepconv2_bn (BatchNormal (None, None, None, 7 2912        block5_sepconv2[0][0]            \n",
      "__________________________________________________________________________________________________\n",
      "block5_sepconv3_act (Activation (None, None, None, 7 0           block5_sepconv2_bn[0][0]         \n",
      "__________________________________________________________________________________________________\n",
      "block5_sepconv3 (SeparableConv2 (None, None, None, 7 536536      block5_sepconv3_act[0][0]        \n",
      "__________________________________________________________________________________________________\n",
      "block5_sepconv3_bn (BatchNormal (None, None, None, 7 2912        block5_sepconv3[0][0]            \n",
      "__________________________________________________________________________________________________\n",
      "add_3 (Add)                     (None, None, None, 7 0           block5_sepconv3_bn[0][0]         \n",
      "                                                                 add_2[0][0]                      \n",
      "__________________________________________________________________________________________________\n",
      "block6_sepconv1_act (Activation (None, None, None, 7 0           add_3[0][0]                      \n",
      "__________________________________________________________________________________________________\n",
      "block6_sepconv1 (SeparableConv2 (None, None, None, 7 536536      block6_sepconv1_act[0][0]        \n",
      "__________________________________________________________________________________________________\n",
      "block6_sepconv1_bn (BatchNormal (None, None, None, 7 2912        block6_sepconv1[0][0]            \n",
      "__________________________________________________________________________________________________\n",
      "block6_sepconv2_act (Activation (None, None, None, 7 0           block6_sepconv1_bn[0][0]         \n",
      "__________________________________________________________________________________________________\n",
      "block6_sepconv2 (SeparableConv2 (None, None, None, 7 536536      block6_sepconv2_act[0][0]        \n",
      "__________________________________________________________________________________________________\n",
      "block6_sepconv2_bn (BatchNormal (None, None, None, 7 2912        block6_sepconv2[0][0]            \n",
      "__________________________________________________________________________________________________\n",
      "block6_sepconv3_act (Activation (None, None, None, 7 0           block6_sepconv2_bn[0][0]         \n",
      "__________________________________________________________________________________________________\n",
      "block6_sepconv3 (SeparableConv2 (None, None, None, 7 536536      block6_sepconv3_act[0][0]        \n",
      "__________________________________________________________________________________________________\n",
      "block6_sepconv3_bn (BatchNormal (None, None, None, 7 2912        block6_sepconv3[0][0]            \n",
      "__________________________________________________________________________________________________\n",
      "add_4 (Add)                     (None, None, None, 7 0           block6_sepconv3_bn[0][0]         \n",
      "                                                                 add_3[0][0]                      \n",
      "__________________________________________________________________________________________________\n",
      "block7_sepconv1_act (Activation (None, None, None, 7 0           add_4[0][0]                      \n",
      "__________________________________________________________________________________________________\n",
      "block7_sepconv1 (SeparableConv2 (None, None, None, 7 536536      block7_sepconv1_act[0][0]        \n",
      "__________________________________________________________________________________________________\n",
      "block7_sepconv1_bn (BatchNormal (None, None, None, 7 2912        block7_sepconv1[0][0]            \n",
      "__________________________________________________________________________________________________\n",
      "block7_sepconv2_act (Activation (None, None, None, 7 0           block7_sepconv1_bn[0][0]         \n",
      "__________________________________________________________________________________________________\n",
      "block7_sepconv2 (SeparableConv2 (None, None, None, 7 536536      block7_sepconv2_act[0][0]        \n",
      "__________________________________________________________________________________________________\n",
      "block7_sepconv2_bn (BatchNormal (None, None, None, 7 2912        block7_sepconv2[0][0]            \n",
      "__________________________________________________________________________________________________\n",
      "block7_sepconv3_act (Activation (None, None, None, 7 0           block7_sepconv2_bn[0][0]         \n",
      "__________________________________________________________________________________________________\n",
      "block7_sepconv3 (SeparableConv2 (None, None, None, 7 536536      block7_sepconv3_act[0][0]        \n",
      "__________________________________________________________________________________________________\n",
      "block7_sepconv3_bn (BatchNormal (None, None, None, 7 2912        block7_sepconv3[0][0]            \n",
      "__________________________________________________________________________________________________\n",
      "add_5 (Add)                     (None, None, None, 7 0           block7_sepconv3_bn[0][0]         \n",
      "                                                                 add_4[0][0]                      \n",
      "__________________________________________________________________________________________________\n",
      "block8_sepconv1_act (Activation (None, None, None, 7 0           add_5[0][0]                      \n",
      "__________________________________________________________________________________________________\n",
      "block8_sepconv1 (SeparableConv2 (None, None, None, 7 536536      block8_sepconv1_act[0][0]        \n",
      "__________________________________________________________________________________________________\n",
      "block8_sepconv1_bn (BatchNormal (None, None, None, 7 2912        block8_sepconv1[0][0]            \n",
      "__________________________________________________________________________________________________\n",
      "block8_sepconv2_act (Activation (None, None, None, 7 0           block8_sepconv1_bn[0][0]         \n",
      "__________________________________________________________________________________________________\n",
      "block8_sepconv2 (SeparableConv2 (None, None, None, 7 536536      block8_sepconv2_act[0][0]        \n",
      "__________________________________________________________________________________________________\n",
      "block8_sepconv2_bn (BatchNormal (None, None, None, 7 2912        block8_sepconv2[0][0]            \n",
      "__________________________________________________________________________________________________\n",
      "block8_sepconv3_act (Activation (None, None, None, 7 0           block8_sepconv2_bn[0][0]         \n",
      "__________________________________________________________________________________________________\n",
      "block8_sepconv3 (SeparableConv2 (None, None, None, 7 536536      block8_sepconv3_act[0][0]        \n",
      "__________________________________________________________________________________________________\n",
      "block8_sepconv3_bn (BatchNormal (None, None, None, 7 2912        block8_sepconv3[0][0]            \n",
      "__________________________________________________________________________________________________\n",
      "add_6 (Add)                     (None, None, None, 7 0           block8_sepconv3_bn[0][0]         \n",
      "                                                                 add_5[0][0]                      \n",
      "__________________________________________________________________________________________________\n",
      "block9_sepconv1_act (Activation (None, None, None, 7 0           add_6[0][0]                      \n",
      "__________________________________________________________________________________________________\n",
      "block9_sepconv1 (SeparableConv2 (None, None, None, 7 536536      block9_sepconv1_act[0][0]        \n",
      "__________________________________________________________________________________________________\n",
      "block9_sepconv1_bn (BatchNormal (None, None, None, 7 2912        block9_sepconv1[0][0]            \n",
      "__________________________________________________________________________________________________\n",
      "block9_sepconv2_act (Activation (None, None, None, 7 0           block9_sepconv1_bn[0][0]         \n",
      "__________________________________________________________________________________________________\n",
      "block9_sepconv2 (SeparableConv2 (None, None, None, 7 536536      block9_sepconv2_act[0][0]        \n",
      "__________________________________________________________________________________________________\n",
      "block9_sepconv2_bn (BatchNormal (None, None, None, 7 2912        block9_sepconv2[0][0]            \n",
      "__________________________________________________________________________________________________\n",
      "block9_sepconv3_act (Activation (None, None, None, 7 0           block9_sepconv2_bn[0][0]         \n",
      "__________________________________________________________________________________________________\n",
      "block9_sepconv3 (SeparableConv2 (None, None, None, 7 536536      block9_sepconv3_act[0][0]        \n",
      "__________________________________________________________________________________________________\n",
      "block9_sepconv3_bn (BatchNormal (None, None, None, 7 2912        block9_sepconv3[0][0]            \n",
      "__________________________________________________________________________________________________\n",
      "add_7 (Add)                     (None, None, None, 7 0           block9_sepconv3_bn[0][0]         \n",
      "                                                                 add_6[0][0]                      \n",
      "__________________________________________________________________________________________________\n",
      "block10_sepconv1_act (Activatio (None, None, None, 7 0           add_7[0][0]                      \n",
      "__________________________________________________________________________________________________\n",
      "block10_sepconv1 (SeparableConv (None, None, None, 7 536536      block10_sepconv1_act[0][0]       \n",
      "__________________________________________________________________________________________________\n",
      "block10_sepconv1_bn (BatchNorma (None, None, None, 7 2912        block10_sepconv1[0][0]           \n",
      "__________________________________________________________________________________________________\n",
      "block10_sepconv2_act (Activatio (None, None, None, 7 0           block10_sepconv1_bn[0][0]        \n",
      "__________________________________________________________________________________________________\n",
      "block10_sepconv2 (SeparableConv (None, None, None, 7 536536      block10_sepconv2_act[0][0]       \n",
      "__________________________________________________________________________________________________\n",
      "block10_sepconv2_bn (BatchNorma (None, None, None, 7 2912        block10_sepconv2[0][0]           \n",
      "__________________________________________________________________________________________________\n",
      "block10_sepconv3_act (Activatio (None, None, None, 7 0           block10_sepconv2_bn[0][0]        \n",
      "__________________________________________________________________________________________________\n",
      "block10_sepconv3 (SeparableConv (None, None, None, 7 536536      block10_sepconv3_act[0][0]       \n",
      "__________________________________________________________________________________________________\n",
      "block10_sepconv3_bn (BatchNorma (None, None, None, 7 2912        block10_sepconv3[0][0]           \n",
      "__________________________________________________________________________________________________\n",
      "add_8 (Add)                     (None, None, None, 7 0           block10_sepconv3_bn[0][0]        \n",
      "                                                                 add_7[0][0]                      \n",
      "__________________________________________________________________________________________________\n",
      "block11_sepconv1_act (Activatio (None, None, None, 7 0           add_8[0][0]                      \n",
      "__________________________________________________________________________________________________\n",
      "block11_sepconv1 (SeparableConv (None, None, None, 7 536536      block11_sepconv1_act[0][0]       \n",
      "__________________________________________________________________________________________________\n",
      "block11_sepconv1_bn (BatchNorma (None, None, None, 7 2912        block11_sepconv1[0][0]           \n",
      "__________________________________________________________________________________________________\n",
      "block11_sepconv2_act (Activatio (None, None, None, 7 0           block11_sepconv1_bn[0][0]        \n",
      "__________________________________________________________________________________________________\n",
      "block11_sepconv2 (SeparableConv (None, None, None, 7 536536      block11_sepconv2_act[0][0]       \n",
      "__________________________________________________________________________________________________\n",
      "block11_sepconv2_bn (BatchNorma (None, None, None, 7 2912        block11_sepconv2[0][0]           \n",
      "__________________________________________________________________________________________________\n",
      "block11_sepconv3_act (Activatio (None, None, None, 7 0           block11_sepconv2_bn[0][0]        \n",
      "__________________________________________________________________________________________________\n",
      "block11_sepconv3 (SeparableConv (None, None, None, 7 536536      block11_sepconv3_act[0][0]       \n",
      "__________________________________________________________________________________________________\n",
      "block11_sepconv3_bn (BatchNorma (None, None, None, 7 2912        block11_sepconv3[0][0]           \n",
      "__________________________________________________________________________________________________\n",
      "add_9 (Add)                     (None, None, None, 7 0           block11_sepconv3_bn[0][0]        \n",
      "                                                                 add_8[0][0]                      \n",
      "__________________________________________________________________________________________________\n",
      "block12_sepconv1_act (Activatio (None, None, None, 7 0           add_9[0][0]                      \n",
      "__________________________________________________________________________________________________\n",
      "block12_sepconv1 (SeparableConv (None, None, None, 7 536536      block12_sepconv1_act[0][0]       \n",
      "__________________________________________________________________________________________________\n",
      "block12_sepconv1_bn (BatchNorma (None, None, None, 7 2912        block12_sepconv1[0][0]           \n",
      "__________________________________________________________________________________________________\n",
      "block12_sepconv2_act (Activatio (None, None, None, 7 0           block12_sepconv1_bn[0][0]        \n",
      "__________________________________________________________________________________________________\n",
      "block12_sepconv2 (SeparableConv (None, None, None, 7 536536      block12_sepconv2_act[0][0]       \n",
      "__________________________________________________________________________________________________\n",
      "block12_sepconv2_bn (BatchNorma (None, None, None, 7 2912        block12_sepconv2[0][0]           \n",
      "__________________________________________________________________________________________________\n",
      "block12_sepconv3_act (Activatio (None, None, None, 7 0           block12_sepconv2_bn[0][0]        \n",
      "__________________________________________________________________________________________________\n",
      "block12_sepconv3 (SeparableConv (None, None, None, 7 536536      block12_sepconv3_act[0][0]       \n",
      "__________________________________________________________________________________________________\n",
      "block12_sepconv3_bn (BatchNorma (None, None, None, 7 2912        block12_sepconv3[0][0]           \n",
      "__________________________________________________________________________________________________\n",
      "add_10 (Add)                    (None, None, None, 7 0           block12_sepconv3_bn[0][0]        \n",
      "                                                                 add_9[0][0]                      \n",
      "__________________________________________________________________________________________________\n",
      "block13_sepconv1_act (Activatio (None, None, None, 7 0           add_10[0][0]                     \n",
      "__________________________________________________________________________________________________\n",
      "block13_sepconv1 (SeparableConv (None, None, None, 7 536536      block13_sepconv1_act[0][0]       \n",
      "__________________________________________________________________________________________________\n",
      "block13_sepconv1_bn (BatchNorma (None, None, None, 7 2912        block13_sepconv1[0][0]           \n",
      "__________________________________________________________________________________________________\n",
      "block13_sepconv2_act (Activatio (None, None, None, 7 0           block13_sepconv1_bn[0][0]        \n",
      "__________________________________________________________________________________________________\n",
      "block13_sepconv2 (SeparableConv (None, None, None, 1 752024      block13_sepconv2_act[0][0]       \n",
      "__________________________________________________________________________________________________\n",
      "block13_sepconv2_bn (BatchNorma (None, None, None, 1 4096        block13_sepconv2[0][0]           \n",
      "__________________________________________________________________________________________________\n",
      "conv2d_3 (Conv2D)               (None, None, None, 1 745472      add_10[0][0]                     \n",
      "__________________________________________________________________________________________________\n",
      "block13_pool (MaxPooling2D)     (None, None, None, 1 0           block13_sepconv2_bn[0][0]        \n",
      "__________________________________________________________________________________________________\n",
      "batch_normalization_3 (BatchNor (None, None, None, 1 4096        conv2d_3[0][0]                   \n",
      "__________________________________________________________________________________________________\n",
      "add_11 (Add)                    (None, None, None, 1 0           block13_pool[0][0]               \n",
      "                                                                 batch_normalization_3[0][0]      \n",
      "__________________________________________________________________________________________________\n",
      "block14_sepconv1 (SeparableConv (None, None, None, 1 1582080     add_11[0][0]                     \n",
      "__________________________________________________________________________________________________\n",
      "block14_sepconv1_bn (BatchNorma (None, None, None, 1 6144        block14_sepconv1[0][0]           \n",
      "__________________________________________________________________________________________________\n",
      "block14_sepconv1_act (Activatio (None, None, None, 1 0           block14_sepconv1_bn[0][0]        \n",
      "__________________________________________________________________________________________________\n",
      "block14_sepconv2 (SeparableConv (None, None, None, 2 3159552     block14_sepconv1_act[0][0]       \n",
      "__________________________________________________________________________________________________\n",
      "block14_sepconv2_bn (BatchNorma (None, None, None, 2 8192        block14_sepconv2[0][0]           \n",
      "__________________________________________________________________________________________________\n",
      "block14_sepconv2_act (Activatio (None, None, None, 2 0           block14_sepconv2_bn[0][0]        \n",
      "__________________________________________________________________________________________________\n",
      "global_average_pooling2d (Globa (None, 2048)         0           block14_sepconv2_act[0][0]       \n",
      "__________________________________________________________________________________________________\n",
      "dense (Dense)                   (None, 6)            12294       global_average_pooling2d[0][0]   \n",
      "==================================================================================================\n",
      "Total params: 20,873,774\n",
      "Trainable params: 12,294\n",
      "Non-trainable params: 20,861,480\n",
      "__________________________________________________________________________________________________\n"
     ]
    }
   ],
   "source": [
    "xception_model.summary()"
   ]
  },
  {
   "cell_type": "code",
   "execution_count": 9,
   "id": "bb088589",
   "metadata": {
    "execution": {
     "iopub.execute_input": "2023-09-04T11:05:58.674478Z",
     "iopub.status.busy": "2023-09-04T11:05:58.674087Z",
     "iopub.status.idle": "2023-09-04T11:06:00.982105Z",
     "shell.execute_reply": "2023-09-04T11:06:00.980954Z"
    },
    "papermill": {
     "duration": 2.322787,
     "end_time": "2023-09-04T11:06:00.985277",
     "exception": false,
     "start_time": "2023-09-04T11:05:58.662490",
     "status": "completed"
    },
    "tags": []
   },
   "outputs": [],
   "source": [
    "# Load model if already trained\n",
    "# Ignore warning \"Could not open..\" - it will work even with that message\n",
    "\n",
    "xception_model.load_weights('../input/xceptionmodeltf/xceptionmodeltfv2')"
   ]
  },
  {
   "cell_type": "code",
   "execution_count": 10,
   "id": "bcdaf10d",
   "metadata": {
    "execution": {
     "iopub.execute_input": "2023-09-04T11:06:01.008557Z",
     "iopub.status.busy": "2023-09-04T11:06:01.008145Z",
     "iopub.status.idle": "2023-09-04T11:06:01.024657Z",
     "shell.execute_reply": "2023-09-04T11:06:01.023745Z"
    },
    "papermill": {
     "duration": 0.030605,
     "end_time": "2023-09-04T11:06:01.026928",
     "exception": false,
     "start_time": "2023-09-04T11:06:00.996323",
     "status": "completed"
    },
    "tags": []
   },
   "outputs": [],
   "source": [
    "# Even if you load an already trained model in cell above you need to compile it as well\n",
    "\n",
    "optimizer = tf.keras.optimizers.Adam(epsilon=0.01)\n",
    "\n",
    "xception_model.compile(\n",
    "    optimizer=optimizer,\n",
    "    loss = 'sparse_categorical_crossentropy',\n",
    "    metrics=['accuracy'],\n",
    ")"
   ]
  },
  {
   "cell_type": "code",
   "execution_count": 11,
   "id": "1e6d91bc",
   "metadata": {
    "execution": {
     "iopub.execute_input": "2023-09-04T11:06:01.049347Z",
     "iopub.status.busy": "2023-09-04T11:06:01.048667Z",
     "iopub.status.idle": "2023-09-04T11:14:33.874707Z",
     "shell.execute_reply": "2023-09-04T11:14:33.873595Z"
    },
    "papermill": {
     "duration": 512.840202,
     "end_time": "2023-09-04T11:14:33.877463",
     "exception": false,
     "start_time": "2023-09-04T11:06:01.037261",
     "status": "completed"
    },
    "tags": []
   },
   "outputs": [
    {
     "name": "stdout",
     "output_type": "stream",
     "text": [
      "Epoch 1/10\n",
      "1059/1059 [==============================] - 94s 80ms/step - loss: 0.3508 - accuracy: 0.8814 - val_loss: 0.4083 - val_accuracy: 0.8536\n",
      "Epoch 2/10\n",
      "1059/1059 [==============================] - 37s 35ms/step - loss: 0.3374 - accuracy: 0.8853 - val_loss: 0.3961 - val_accuracy: 0.8566\n",
      "Epoch 3/10\n",
      "1059/1059 [==============================] - 37s 35ms/step - loss: 0.3222 - accuracy: 0.8903 - val_loss: 0.3858 - val_accuracy: 0.8590\n",
      "Epoch 4/10\n",
      "1059/1059 [==============================] - 37s 35ms/step - loss: 0.3091 - accuracy: 0.8945 - val_loss: 0.3776 - val_accuracy: 0.8624\n",
      "Epoch 5/10\n",
      "1059/1059 [==============================] - 37s 35ms/step - loss: 0.2981 - accuracy: 0.8983 - val_loss: 0.3711 - val_accuracy: 0.8636\n",
      "Epoch 6/10\n",
      "1059/1059 [==============================] - 37s 35ms/step - loss: 0.2886 - accuracy: 0.9016 - val_loss: 0.3658 - val_accuracy: 0.8677\n",
      "Epoch 7/10\n",
      "1059/1059 [==============================] - 37s 35ms/step - loss: 0.2804 - accuracy: 0.9043 - val_loss: 0.3615 - val_accuracy: 0.8684\n",
      "Epoch 8/10\n",
      "1059/1059 [==============================] - 38s 35ms/step - loss: 0.2733 - accuracy: 0.9065 - val_loss: 0.3580 - val_accuracy: 0.8698\n",
      "Epoch 9/10\n",
      "1059/1059 [==============================] - 37s 35ms/step - loss: 0.2669 - accuracy: 0.9090 - val_loss: 0.3552 - val_accuracy: 0.8716\n",
      "Epoch 10/10\n",
      "1059/1059 [==============================] - 37s 35ms/step - loss: 0.2612 - accuracy: 0.9110 - val_loss: 0.3528 - val_accuracy: 0.8728\n"
     ]
    }
   ],
   "source": [
    "# Training (will take time if no GPU or TPU is being used - even with GPU/TPU it takes a while)\n",
    "# Dont run it if you already load the weights\n",
    "\n",
    "history = xception_model.fit(\n",
    "    train_ds,\n",
    "    validation_data=val_ds,\n",
    "    epochs = 10,\n",
    ")"
   ]
  },
  {
   "cell_type": "code",
   "execution_count": 12,
   "id": "a641256b",
   "metadata": {
    "execution": {
     "iopub.execute_input": "2023-09-04T11:14:34.817240Z",
     "iopub.status.busy": "2023-09-04T11:14:34.816022Z",
     "iopub.status.idle": "2023-09-04T11:14:35.490817Z",
     "shell.execute_reply": "2023-09-04T11:14:35.489864Z"
    },
    "papermill": {
     "duration": 1.123163,
     "end_time": "2023-09-04T11:14:35.493089",
     "exception": false,
     "start_time": "2023-09-04T11:14:34.369926",
     "status": "completed"
    },
    "tags": []
   },
   "outputs": [
    {
     "data": {
      "text/plain": [
       "<AxesSubplot:>"
      ]
     },
     "execution_count": 12,
     "metadata": {},
     "output_type": "execute_result"
    },
    {
     "data": {
      "image/png": "[encoded data removed]",
      "text/plain": [
       "<Figure size 432x288 with 1 Axes>"
      ]
     },
     "metadata": {
      "needs_background": "light"
     },
     "output_type": "display_data"
    },
    {
     "data": {
      "image/png": "[encoded data removed]",
      "text/plain": [
       "<Figure size 432x288 with 1 Axes>"
      ]
     },
     "metadata": {
      "needs_background": "light"
     },
     "output_type": "display_data"
    }
   ],
   "source": [
    "# Results visualization\n",
    "# Loss and validation loss variation \n",
    "\n",
    "history_frame = pd.DataFrame(history.history)\n",
    "history_frame.loc[:, ['loss', 'val_loss']].plot()\n",
    "history_frame.loc[:, ['accuracy', 'val_accuracy']].plot()"
   ]
  },
  {
   "cell_type": "code",
   "execution_count": 13,
   "id": "5863ac2a",
   "metadata": {
    "execution": {
     "iopub.execute_input": "2023-09-04T11:14:36.383238Z",
     "iopub.status.busy": "2023-09-04T11:14:36.382835Z",
     "iopub.status.idle": "2023-09-04T11:14:36.679800Z",
     "shell.execute_reply": "2023-09-04T11:14:36.678771Z"
    },
    "papermill": {
     "duration": 0.745451,
     "end_time": "2023-09-04T11:14:36.682550",
     "exception": false,
     "start_time": "2023-09-04T11:14:35.937099",
     "status": "completed"
    },
    "tags": []
   },
   "outputs": [],
   "source": [
    "#Save the previous trained model\n",
    "\n",
    "modelSaving = xception_model.save_weights('./xceptionmodel', save_format='h5')"
   ]
  },
  {
   "cell_type": "code",
   "execution_count": 14,
   "id": "a4c8ce5d",
   "metadata": {
    "execution": {
     "iopub.execute_input": "2023-09-04T11:14:37.671453Z",
     "iopub.status.busy": "2023-09-04T11:14:37.671025Z",
     "iopub.status.idle": "2023-09-04T11:14:42.809757Z",
     "shell.execute_reply": "2023-09-04T11:14:42.808606Z"
    },
    "papermill": {
     "duration": 5.588463,
     "end_time": "2023-09-04T11:14:42.812469",
     "exception": false,
     "start_time": "2023-09-04T11:14:37.224006",
     "status": "completed"
    },
    "tags": []
   },
   "outputs": [
    {
     "name": "stdout",
     "output_type": "stream",
     "text": [
      "88/88 [==============================] - 3s 30ms/step - loss: 0.3263 - accuracy: 0.8835\n",
      "Test loss:  0.3263016939163208\n",
      "Test accuracy:  0.8835227489471436\n"
     ]
    }
   ],
   "source": [
    "#test sample evaluation\n",
    "\n",
    "score = xception_model.evaluate(test_ds)\n",
    "print(\"Test loss: \", score[0])\n",
    "print(\"Test accuracy: \", score[1])"
   ]
  },
  {
   "cell_type": "markdown",
   "id": "b07f0c79",
   "metadata": {
    "papermill": {
     "duration": 0.452056,
     "end_time": "2023-09-04T11:14:43.711731",
     "exception": false,
     "start_time": "2023-09-04T11:14:43.259675",
     "status": "completed"
    },
    "tags": []
   },
   "source": [
    "## Guided Backpropagation implementation"
   ]
  },
  {
   "cell_type": "code",
   "execution_count": 15,
   "id": "87c57bab",
   "metadata": {
    "execution": {
     "iopub.execute_input": "2023-09-04T11:14:44.658114Z",
     "iopub.status.busy": "2023-09-04T11:14:44.657725Z",
     "iopub.status.idle": "2023-09-04T11:14:44.671221Z",
     "shell.execute_reply": "2023-09-04T11:14:44.670242Z"
    },
    "papermill": {
     "duration": 0.514959,
     "end_time": "2023-09-04T11:14:44.673483",
     "exception": false,
     "start_time": "2023-09-04T11:14:44.158524",
     "status": "completed"
    },
    "tags": []
   },
   "outputs": [],
   "source": [
    "def prep_input(path):\n",
    "    image = tf.image.decode_png(tf.io.read_file(path))\n",
    "    image = tf.expand_dims(image, axis=0)\n",
    "    image = tf.cast(image, tf.float32)\n",
    "    image = tf.image.resize(image, [124,124])\n",
    "    return image\n",
    "\n",
    "def norm_flat_image(img):\n",
    "    grads_norm = img[:,:,0]+ img[:,:,1]+ img[:,:,2]\n",
    "    grads_norm = (grads_norm - tf.reduce_min(grads_norm))/ (tf.reduce_max(grads_norm)- tf.reduce_min(grads_norm))\n",
    "    return grads_norm\n",
    "\n",
    "def get_image():\n",
    "    # Wikipedia lion image https://en.wikipedia.org/wiki/Lion#/media/File:Lion_waiting_in_Namibia.jpg\n",
    "    # License: CC BY 2.0 https://creativecommons.org/licenses/by/2.0/deed.en\n",
    "    import urllib.request\n",
    "    filename = 'monkeypox.jpg'\n",
    "    img_url = r\"https://portaldrauziovarella.nyc3.digitaloceanspaces.com/wp-content/uploads/2022/07/25141417/Depositphotos_481360378_L-1-2.jpg\"\n",
    "    urllib.request.urlretrieve(img_url, filename)\n",
    "\n",
    "def plot_maps(img1, img2,vmin=0.3,vmax=0.7, mix_val=2):\n",
    "    f = plt.figure(figsize=(45,15))\n",
    "    plt.subplot(1,3,1)\n",
    "    plt.imshow(img1,vmin=vmin, vmax=vmax, cmap=\"gray\")\n",
    "    plt.axis(\"off\")\n",
    "    plt.subplot(1,3,2)\n",
    "    plt.imshow(img2, cmap = \"gray\")\n",
    "    plt.axis(\"off\")\n",
    "    plt.subplot(1,3,3)\n",
    "    plt.imshow(img1*mix_val+img2/mix_val, cmap = \"gray\" )\n",
    "    plt.axis(\"off\")\n",
    "    plt.show()"
   ]
  },
  {
   "cell_type": "code",
   "execution_count": 16,
   "id": "4a754026",
   "metadata": {
    "execution": {
     "iopub.execute_input": "2023-09-04T11:14:45.572275Z",
     "iopub.status.busy": "2023-09-04T11:14:45.571850Z",
     "iopub.status.idle": "2023-09-04T11:14:46.774331Z",
     "shell.execute_reply": "2023-09-04T11:14:46.773189Z"
    },
    "papermill": {
     "duration": 1.656519,
     "end_time": "2023-09-04T11:14:46.776873",
     "exception": false,
     "start_time": "2023-09-04T11:14:45.120354",
     "status": "completed"
    },
    "tags": []
   },
   "outputs": [
    {
     "data": {
      "text/plain": [
       "<matplotlib.image.AxesImage at 0x7c8708166690>"
      ]
     },
     "execution_count": 16,
     "metadata": {},
     "output_type": "execute_result"
    },
    {
     "data": {
      "image/png": "[encoded data removed]",
      "text/plain": [
       "<Figure size 432x288 with 1 Axes>"
      ]
     },
     "metadata": {
      "needs_background": "light"
     },
     "output_type": "display_data"
    }
   ],
   "source": [
    "get_image()\n",
    "img_path = \"monkeypox.jpg\"\n",
    "input_img = prep_input(img_path)\n",
    "input_img = tf.keras.applications.xception.preprocess_input(input_img)\n",
    "plt.imshow(norm_flat_image(input_img[0]), cmap = \"gray\")"
   ]
  },
  {
   "cell_type": "code",
   "execution_count": 17,
   "id": "9f30805a",
   "metadata": {
    "execution": {
     "iopub.execute_input": "2023-09-04T11:14:47.772163Z",
     "iopub.status.busy": "2023-09-04T11:14:47.771785Z",
     "iopub.status.idle": "2023-09-04T11:14:47.860159Z",
     "shell.execute_reply": "2023-09-04T11:14:47.859172Z"
    },
    "papermill": {
     "duration": 0.588194,
     "end_time": "2023-09-04T11:14:47.862561",
     "exception": false,
     "start_time": "2023-09-04T11:14:47.274367",
     "status": "completed"
    },
    "tags": []
   },
   "outputs": [
    {
     "data": {
      "text/plain": [
       "<tf.Tensor: shape=(1, 6), dtype=float32, numpy=\n",
       "array([[1.2837787e-01, 1.0429442e-02, 1.4425676e-06, 3.3940503e-04,\n",
       "        1.9350642e-03, 8.5891676e-01]], dtype=float32)>"
      ]
     },
     "execution_count": 17,
     "metadata": {},
     "output_type": "execute_result"
    }
   ],
   "source": [
    "xception_model(input_img)"
   ]
  },
  {
   "cell_type": "code",
   "execution_count": 18,
   "id": "6209683d",
   "metadata": {
    "execution": {
     "iopub.execute_input": "2023-09-04T11:14:48.772327Z",
     "iopub.status.busy": "2023-09-04T11:14:48.771917Z",
     "iopub.status.idle": "2023-09-04T11:14:49.607567Z",
     "shell.execute_reply": "2023-09-04T11:14:49.606453Z"
    },
    "papermill": {
     "duration": 1.297029,
     "end_time": "2023-09-04T11:14:49.610486",
     "exception": false,
     "start_time": "2023-09-04T11:14:48.313457",
     "status": "completed"
    },
    "tags": []
   },
   "outputs": [
    {
     "data": {
      "text/plain": [
       "array([[1.2837794e-01, 1.0429392e-02, 1.4425661e-06, 3.3940567e-04,\n",
       "        1.9350589e-03, 8.5891676e-01]], dtype=float32)"
      ]
     },
     "execution_count": 18,
     "metadata": {},
     "output_type": "execute_result"
    }
   ],
   "source": [
    "xception_model.predict(input_img)"
   ]
  },
  {
   "cell_type": "code",
   "execution_count": 19,
   "id": "ea6687e0",
   "metadata": {
    "execution": {
     "iopub.execute_input": "2023-09-04T11:14:50.568003Z",
     "iopub.status.busy": "2023-09-04T11:14:50.567620Z",
     "iopub.status.idle": "2023-09-04T11:14:50.639150Z",
     "shell.execute_reply": "2023-09-04T11:14:50.638135Z"
    },
    "papermill": {
     "duration": 0.537021,
     "end_time": "2023-09-04T11:14:50.641362",
     "exception": false,
     "start_time": "2023-09-04T11:14:50.104341",
     "status": "completed"
    },
    "tags": []
   },
   "outputs": [
    {
     "data": {
      "text/plain": [
       "5"
      ]
     },
     "execution_count": 19,
     "metadata": {},
     "output_type": "execute_result"
    }
   ],
   "source": [
    "result = xception_model.predict(input_img)\n",
    "max_idx = result.argmax(axis=1)[0]\n",
    "max_idx"
   ]
  },
  {
   "cell_type": "code",
   "execution_count": 20,
   "id": "6f1f228f",
   "metadata": {
    "execution": {
     "iopub.execute_input": "2023-09-04T11:14:51.592258Z",
     "iopub.status.busy": "2023-09-04T11:14:51.591850Z",
     "iopub.status.idle": "2023-09-04T11:14:51.598313Z",
     "shell.execute_reply": "2023-09-04T11:14:51.597382Z"
    },
    "papermill": {
     "duration": 0.45978,
     "end_time": "2023-09-04T11:14:51.600702",
     "exception": false,
     "start_time": "2023-09-04T11:14:51.140922",
     "status": "completed"
    },
    "tags": []
   },
   "outputs": [
    {
     "data": {
      "text/plain": [
       "TensorShape([1, 124, 124, 3])"
      ]
     },
     "execution_count": 20,
     "metadata": {},
     "output_type": "execute_result"
    }
   ],
   "source": [
    "input_img.shape"
   ]
  },
  {
   "cell_type": "code",
   "execution_count": 21,
   "id": "faf7de6c",
   "metadata": {
    "execution": {
     "iopub.execute_input": "2023-09-04T11:14:52.502664Z",
     "iopub.status.busy": "2023-09-04T11:14:52.502273Z",
     "iopub.status.idle": "2023-09-04T11:14:52.508083Z",
     "shell.execute_reply": "2023-09-04T11:14:52.507114Z"
    },
    "papermill": {
     "duration": 0.459418,
     "end_time": "2023-09-04T11:14:52.510361",
     "exception": false,
     "start_time": "2023-09-04T11:14:52.050943",
     "status": "completed"
    },
    "tags": []
   },
   "outputs": [],
   "source": [
    "@tf.custom_gradient\n",
    "def guidedRelu(x):\n",
    "    def grad(dy):\n",
    "        return tf.cast(dy>0,tf.float32)  * tf.cast(x>0,tf.float32) * dy\n",
    "    return tf.nn.relu(x), grad"
   ]
  },
  {
   "cell_type": "code",
   "execution_count": 22,
   "id": "2b63d888",
   "metadata": {
    "execution": {
     "iopub.execute_input": "2023-09-04T11:14:53.459772Z",
     "iopub.status.busy": "2023-09-04T11:14:53.459358Z",
     "iopub.status.idle": "2023-09-04T11:14:53.472518Z",
     "shell.execute_reply": "2023-09-04T11:14:53.470955Z"
    },
    "papermill": {
     "duration": 0.470107,
     "end_time": "2023-09-04T11:14:53.474978",
     "exception": false,
     "start_time": "2023-09-04T11:14:53.004871",
     "status": "completed"
    },
    "tags": []
   },
   "outputs": [
    {
     "name": "stdout",
     "output_type": "stream",
     "text": [
      "changed\n",
      "changed\n",
      "changed\n",
      "changed\n",
      "changed\n",
      "changed\n",
      "changed\n",
      "changed\n",
      "changed\n",
      "changed\n",
      "changed\n",
      "changed\n",
      "changed\n",
      "changed\n",
      "changed\n",
      "changed\n",
      "changed\n",
      "changed\n",
      "changed\n",
      "changed\n",
      "changed\n",
      "changed\n",
      "changed\n",
      "changed\n",
      "changed\n",
      "changed\n",
      "changed\n",
      "changed\n",
      "changed\n",
      "changed\n",
      "changed\n",
      "changed\n",
      "changed\n",
      "changed\n",
      "changed\n"
     ]
    }
   ],
   "source": [
    "layer_dict = [layer for layer in xception_model.layers[1:] if hasattr(layer,'activation')]\n",
    "for layer in layer_dict:\n",
    "    if layer.activation == tf.keras.activations.relu:\n",
    "        layer.activation = guidedRelu\n",
    "        print(\"changed\")"
   ]
  },
  {
   "cell_type": "code",
   "execution_count": 23,
   "id": "0628608b",
   "metadata": {
    "execution": {
     "iopub.execute_input": "2023-09-04T11:14:54.374132Z",
     "iopub.status.busy": "2023-09-04T11:14:54.373741Z",
     "iopub.status.idle": "2023-09-04T11:14:54.987231Z",
     "shell.execute_reply": "2023-09-04T11:14:54.986096Z"
    },
    "papermill": {
     "duration": 1.065505,
     "end_time": "2023-09-04T11:14:54.990269",
     "exception": false,
     "start_time": "2023-09-04T11:14:53.924764",
     "status": "completed"
    },
    "tags": []
   },
   "outputs": [],
   "source": [
    "with tf.GradientTape() as tape:\n",
    "    tape.watch(input_img)\n",
    "    result = xception_model(input_img)\n",
    "    max_score = result[0,max_idx]\n",
    "grads = tape.gradient(max_score, input_img)"
   ]
  },
  {
   "cell_type": "code",
   "execution_count": 24,
   "id": "45b0ad32",
   "metadata": {
    "execution": {
     "iopub.execute_input": "2023-09-04T11:14:55.947741Z",
     "iopub.status.busy": "2023-09-04T11:14:55.947356Z",
     "iopub.status.idle": "2023-09-04T11:14:56.410068Z",
     "shell.execute_reply": "2023-09-04T11:14:56.409148Z"
    },
    "papermill": {
     "duration": 0.916858,
     "end_time": "2023-09-04T11:14:56.412549",
     "exception": false,
     "start_time": "2023-09-04T11:14:55.495691",
     "status": "completed"
    },
    "tags": []
   },
   "outputs": [
    {
     "data": {
      "image/png": "[encoded data removed]",
      "text/plain": [
       "<Figure size 3240x1080 with 3 Axes>"
      ]
     },
     "metadata": {
      "needs_background": "light"
     },
     "output_type": "display_data"
    }
   ],
   "source": [
    "plot_maps(norm_flat_image(grads[0]), norm_flat_image(input_img[0]))"
   ]
  }
 ],
 "kernelspec": {
  "display_name": "Python 3",
  "language": "python",
  "name": "python3"
 },
 "language_info": {
  "codemirror_mode": {
   "name": "ipython",
   "version": 3
  },
  "file_extension": ".py",
  "mimetype": "text/x-python",
  "name": "python",
  "nbconvert_exporter": "python",
  "pygments_lexer": "ipython3",
  "version": "3.6.4"
 },
 "metadata": {
  "kernelspec": {
   "display_name": "Python 3",
   "language": "python",
   "name": "python3"
  },
  "language_info": {
   "codemirror_mode": {
    "name": "ipython",
    "version": 3
   },
   "file_extension": ".py",
   "mimetype": "text/x-python",
   "name": "python",
   "nbconvert_exporter": "python",
   "pygments_lexer": "ipython3",
   "version": "3.7.12"
  },
  "papermill": {
   "default_parameters": {},
   "duration": 590.050509,
   "end_time": "2023-09-04T11:15:00.032478",
   "environment_variables": {},
   "exception": null,
   "input_path": "__notebook__.ipynb",
   "output_path": "__notebook__.ipynb",
   "parameters": {},
   "start_time": "2023-09-04T11:05:09.981969",
   "version": "2.3.4"
  }
 },
 "nbformat": 4,
 "nbformat_minor": 5
}
